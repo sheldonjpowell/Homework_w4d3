{
 "cells": [
  {
   "cell_type": "markdown",
   "id": "1a177596",
   "metadata": {},
   "source": [
    "### Exercise #1\n",
    "Reverse the list below in-place using an in-place algorithm.\n",
    "For extra credit: Reverse the strings at the same time."
   ]
  },
  {
   "cell_type": "code",
   "execution_count": 13,
   "id": "c5fc8e8b",
   "metadata": {},
   "outputs": [
    {
     "name": "stdout",
     "output_type": "stream",
     "text": [
      "['this', 'is', 'a', 'sentence', '.']\n",
      "['.', 'sentence', 'a', 'is', 'this']\n"
     ]
    }
   ],
   "source": [
    "words = ['this' , 'is', 'a', 'sentence', '.']\n",
    "\n",
    "def rev(lst, a, b, c, d, e):\n",
    "    lst[a], lst[b], lst[c], lst[d], lst[e] = lst[e], lst[d], lst[c], lst[b], lst[a]\n",
    "    return lst\n",
    "\n",
    "print(words)\n",
    "rev(words,0,1,2,3,4)\n",
    "print(words)\n",
    "    \n"
   ]
  },
  {
   "cell_type": "code",
   "execution_count": 40,
   "id": "75e07a52",
   "metadata": {},
   "outputs": [
    {
     "name": "stdout",
     "output_type": "stream",
     "text": [
      "['is', 'this', 'a', '.', 'sentence']\n",
      "['.', 'sentence', 'a', 'is', 'this']\n"
     ]
    }
   ],
   "source": [
    "# def rev(lst, a, b, c, d, e):\n",
    "    \n",
    "#     lst[a], lst[b], lst[c], lst[d], lst[e] = lst[e], lst[d], lst[c], lst[b], lst[a]\n",
    "#     return lst\n",
    "#     for apple in a:\n",
    "#         print(apple)\n",
    "# print(words)        \n",
    "# rev(words,3,4,2,1,0)\n",
    "# print(words)"
   ]
  },
  {
   "cell_type": "markdown",
   "id": "449619ba",
   "metadata": {},
   "source": [
    "### Exercise #2\n",
    "Create a function that counts how many distinct words are in the string below, then outputs a dictionary with the words as the key and the value as the amount of times that word appears in the string.\n",
    "Should output:\n",
    "{'a': 5,\n",
    "'abstract': 1,\n",
    "'an': 3,\n",
    "'array': 2, ... etc...\n",
    "\n",
    "\n",
    "\n",
    "\n"
   ]
  },
  {
   "cell_type": "code",
   "execution_count": null,
   "id": "fbcd2af3",
   "metadata": {},
   "outputs": [],
   "source": [
    "a_text = 'In computing, a hash table hash map is a data structure which implements an associative array abstract data type, a structure that can map keys to values. A hash table uses a hash function to compute an index into an array of buckets or slots from which the desired value can be found'\n",
    "\n",
    "def text_sorter(stri):\n",
    "    words = 0\n",
    "    \n",
    "    number_words = len(stri.split())\n",
    "    if number_words == stri:\n",
    "        \n",
    "text_sorter(a_text)\n",
    "    \n",
    "    \n",
    "    \n",
    "    \n",
    "    \n",
    "    \n",
    "    \n",
    "    \n",
    "    \n",
    "    \n",
    "    \n",
    "    "
   ]
  },
  {
   "cell_type": "markdown",
   "id": "753968cc",
   "metadata": {},
   "source": [
    "### Exercise #3\n",
    "Write a program to implement a Linear Search Algorithm. Also in a comment, write the Time Complexity of the following algorithm.\n",
    "\n",
    "Hint: Linear Searching will require searching a list for a given number"
   ]
  },
  {
   "cell_type": "code",
   "execution_count": null,
   "id": "cbfbc439",
   "metadata": {},
   "outputs": [],
   "source": [
    "nums_list = [10,23,45,70,11,15]\n",
    "target = 70\n",
    "\n",
    "# If number is not present return -1\n",
    "            "
   ]
  },
  {
   "cell_type": "code",
   "execution_count": null,
   "id": "989f5598",
   "metadata": {},
   "outputs": [],
   "source": [
    "\n",
    "# def binarySearchHelperFunction(array, target, left, right):\n",
    "#     while left <= right:\n",
    "#         middle = (left + right) // 2\n",
    "#         potentialMatch = array[middle]\n",
    "#         if target == potentialMatch:\n",
    "#             return f\"The index is...{middle}\"\n",
    "#         elif target < potentialMatch:\n",
    "#             right = middle - 1\n",
    "#         else:\n",
    "#             left = middle + 1\n",
    "#     return -1\n",
    "\n",
    "# def binarySearch(array,target):\n",
    "#     return binarySearchHelperFunction(array,target,0, len(array) - 1)\n",
    "\n",
    "# binarySearch([22,44,55,66,88,100],44)"
   ]
  }
 ],
 "metadata": {
  "kernelspec": {
   "display_name": "Python 3 (ipykernel)",
   "language": "python",
   "name": "python3"
  },
  "language_info": {
   "codemirror_mode": {
    "name": "ipython",
    "version": 3
   },
   "file_extension": ".py",
   "mimetype": "text/x-python",
   "name": "python",
   "nbconvert_exporter": "python",
   "pygments_lexer": "ipython3",
   "version": "3.9.7"
  }
 },
 "nbformat": 4,
 "nbformat_minor": 5
}
